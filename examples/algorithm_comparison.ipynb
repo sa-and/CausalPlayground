{
 "cells": [
  {
   "cell_type": "markdown",
   "source": [
    "# Use-Case: Using CausalPlayground to Compare Causal Discovery Algorithms\n",
    "\n",
    "In this use-case, we will explore how to use the CausalPlayground library to compare different causal discovery algorithms. We will generate synthetic data using the library's built-in functions and evaluate the performance of the algorithms on both confounded and unconfounded, automatically generated SCMs.\n",
    "\n",
    "## Installing Required Packages\n",
    "\n",
    "Before running this notebook, make sure you have the necessary packages installed. You can install them using the following commands:\n"
   ],
   "metadata": {
    "collapsed": false
   },
   "id": "e76ca8fc701521ac"
  },
  {
   "cell_type": "code",
   "outputs": [],
   "source": [
    "!pip install castle\n",
    "!pip install causal-playground\n",
    "!pip install networkx\n",
    "!pip install pandas\n",
    "!pip install matplotlib"
   ],
   "metadata": {
    "collapsed": false
   },
   "id": "6429b8b453bddccf",
   "execution_count": null
  },
  {
   "cell_type": "markdown",
   "source": [
    "Now, let's import the necessary libraries and modules. We will use CaisalPlayground to generate many SCM instances and the gCastle [1] package for implementations of the causal discovery algorithms."
   ],
   "metadata": {
    "collapsed": false
   },
   "id": "d2c1522fd48bdf9"
  },
  {
   "cell_type": "code",
   "outputs": [],
   "source": [
    "import warnings\n",
    "warnings.filterwarnings(\"ignore\")\n",
    "import numpy as np\n",
    "from numpy.linalg import LinAlgError\n",
    "import random\n",
    "import networkx as nx\n",
    "import pandas as pd\n",
    "import matplotlib.pyplot as plt\n",
    "\n",
    "from castle.metrics import MetricsDAG\n",
    "from castle.algorithms import PC, GES, Notears\n",
    "\n",
    "from CausalPlayground import *"
   ],
   "metadata": {
    "collapsed": false
   },
   "id": "8b3420a7d28457bd",
   "execution_count": null
  },
  {
   "cell_type": "markdown",
   "source": [
    "## Setting Hyperparameters\n",
    "\n",
    "We define the hyperparameters for our analysis, including the number of SCMs to evaluate and the algorithms to compare. Note that the number of SCMs that will be evaluated influences the runtime later in this notebook."
   ],
   "metadata": {
    "collapsed": false
   },
   "id": "686521710ba8fbdb"
  },
  {
   "cell_type": "code",
   "outputs": [],
   "source": [
    "n_scms = 30  # how many SCMs should be generated\n",
    "n_samples = 100 # how many data points to sample from each SCM\n",
    "algos = {'PC': PC, 'GES': GES, 'NOTEARS': Notears}  # which algorithms should be compared"
   ],
   "metadata": {
    "collapsed": false
   },
   "id": "62fbf138f799bae",
   "execution_count": null
  },
  {
   "cell_type": "markdown",
   "source": [
    "## Generating Causal Graphs\n",
    "\n",
    "We generate distinct confounded and unconfounded causal graphs using the `CausalGraphSetGenerator` class from CausalPlayground. Each of the sets has 4 endogenous variables and 4 exogenous variables. "
   ],
   "metadata": {
    "collapsed": false
   },
   "id": "26380d4c4a2e6ae6"
  },
  {
   "cell_type": "code",
   "outputs": [],
   "source": [
    "generator = CausalGraphSetGenerator(n_endo=4, n_exo=4, allow_exo_confounders=False)\n",
    "generator.generate(n_scms)\n",
    "graphs_unconfounded = generator.graphs\n",
    "\n",
    "generator = CausalGraphSetGenerator(n_endo=4, n_exo=4, allow_exo_confounders=True)\n",
    "generator.generate(n_scms)\n",
    "graphs_confounded = generator.graphs\n"
   ],
   "metadata": {
    "collapsed": false
   },
   "id": "284b474db001116",
   "execution_count": null
  },
  {
   "cell_type": "markdown",
   "source": [
    "The outputs show the progress on how many graphs have already been added to the set, and how many graphs had to be resampled because they were already in the set.\n",
    "## Generating SCMs\n",
    "\n",
    "First, we have to define a function class from which to draw the causal relations of our SCM. For the sake of this experiment, we choose linear functions and an interaction function as defined below. The linear function adds all causal parents, the interaction function multiplies all causal parents. Both functions add gaussian noise."
   ],
   "metadata": {
    "collapsed": false
   },
   "id": "76820ac23c32939b"
  },
  {
   "cell_type": "code",
   "outputs": [],
   "source": [
    "def f_linear(parents):\n",
    "    weights = {p: random.uniform(0.5, 2.0) for p in parents}\n",
    "    default_value = 0.0\n",
    "\n",
    "    def f(**kwargs):\n",
    "        if len(kwargs) == 0:\n",
    "            mu = default_value\n",
    "        else:\n",
    "            mu = 0.0\n",
    "\n",
    "        for p in parents:\n",
    "            mu += weights[p] * kwargs[p]\n",
    "        return mu + random.gauss(0, 0.5)\n",
    "\n",
    "    return f\n",
    "\n",
    "def f_interaction(parents):\n",
    "    weights = {p: random.uniform(0.5, 2.0) for p in parents}\n",
    "    default_value = 1.0\n",
    "\n",
    "    def f(**kwargs):\n",
    "        if len(kwargs) == 0:\n",
    "            mu = default_value\n",
    "        else:\n",
    "            mu = 1.0\n",
    "\n",
    "        for p in parents:\n",
    "            mu *= weights[p] * kwargs[p]\n",
    "        return mu + random.gauss(0, 0.5)\n",
    "\n",
    "    return f"
   ],
   "metadata": {
    "collapsed": false
   },
   "id": "e75720c5870244cc",
   "execution_count": null
  },
  {
   "cell_type": "markdown",
   "source": [
    "\n",
    "We generate the SCMs for evaluation using the `SCMGenerator` class from CausalPlayground. We create SCMs for both confounded and unconfounded graphs by generating SCMs based on the graph structures generated before. The causal relations are determined by the `f_linear` and `f_interaction` function defined above. More specifically, for every endogenous variable, the function is drawn from either of the two classes."
   ],
   "metadata": {
    "collapsed": false
   },
   "id": "52fa7cac337f5ff"
  },
  {
   "cell_type": "code",
   "outputs": [],
   "source": [
    "generator = SCMGenerator(all_functions={\"linear\": f_linear, \"interaction\": f_interaction}, seed=42)\n",
    "\n",
    "scms_unconfounded = [generator.create_scm_from_graph(graph,\n",
    "                                                     possible_functions=['linear', 'interaction'],\n",
    "                                                     exo_distribution=random.gauss,\n",
    "                                                     exo_distribution_kwargs={'mu': 0, 'sigma': 1})\n",
    "                     for graph in graphs_unconfounded]\n",
    "\n",
    "scms_confounded = [generator.create_scm_from_graph(graph,\n",
    "                                                   possible_functions=['linear', 'interaction'],\n",
    "                                                   exo_distribution=random.gauss,\n",
    "                                                   exo_distribution_kwargs={'mu': 0, 'sigma': 1})\n",
    "                   for graph in graphs_confounded]"
   ],
   "metadata": {
    "collapsed": false
   },
   "id": "1635fa151cca6b31",
   "execution_count": null
  },
  {
   "cell_type": "markdown",
   "source": [
    "## Initializing Results\n",
    "\n",
    "We initialize a dictionary to store the evaluation results for each algorithm and dataset configuration. By creating a `pandas.DataFrame` for each algorithm for the confounded and the unconfounded case. "
   ],
   "metadata": {
    "collapsed": false
   },
   "id": "9658060b8df08548"
  },
  {
   "cell_type": "code",
   "outputs": [],
   "source": [
    "metrics = ['fdr', 'tpr', 'fpr', 'shd', 'nnz', 'precision', 'recall', 'F1', 'gscore']\n",
    "results = {algo: {'uconf': pd.DataFrame(columns=metrics), 'conf': pd.DataFrame(columns=metrics)} for algo in algos.keys()}"
   ],
   "metadata": {
    "collapsed": false
   },
   "id": "987a4ab0c67d52ee",
   "execution_count": null
  },
  {
   "cell_type": "markdown",
   "source": [
    "## Evaluating Algorithms\n",
    "\n",
    "We iterate over the generated SCMs and evaluate the performance of each algorithm on both confounded and unconfounded datasets. This will take a few minutes."
   ],
   "metadata": {
    "collapsed": false
   },
   "id": "c68d2b90712ce032"
  },
  {
   "cell_type": "code",
   "outputs": [],
   "source": [
    "for scm_uconf, scm_conf in zip(scms_unconfounded, scms_confounded):\n",
    "    # Create the SCMEnvironments to interact with the SCMs\n",
    "    env_uconf = SCMEnvironment(scm_uconf, possible_interventions=[])\n",
    "    env_conf = SCMEnvironment(scm_conf, possible_interventions=[])\n",
    "    \n",
    "    # Step through the environment to collect [n_samples] samples.\n",
    "    [env_uconf.step([0]) for _ in range(n_samples)]\n",
    "    [env_conf.step([0]) for _ in range(n_samples)]\n",
    "    \n",
    "    # retrieve the samples\n",
    "    samples_uconf = env_uconf.samples_so_far.to_numpy()\n",
    "    samples_conf = env_conf.samples_so_far.to_numpy()\n",
    "    \n",
    "    for a in algos.keys():\n",
    "        algo = algos[a]()\n",
    "        \n",
    "        # Unconfounded case\n",
    "        try:\n",
    "            algo.learn(samples_uconf)\n",
    "        except LinAlgError or ValueError:  # Discard SCMs that lead to degenerate data matricies\n",
    "            continue\n",
    "        \n",
    "        # calculate the metrics and add them to the right dataframe\n",
    "        mt = MetricsDAG(algo.causal_matrix, nx.to_numpy_array(scm_uconf.create_graph()))\n",
    "        results[a]['uconf'].loc[len(results[a]['uconf'])] = mt.metrics\n",
    "        \n",
    "        # Unconfounded case\n",
    "        try:\n",
    "            algo.learn(samples_conf)\n",
    "        except LinAlgError or ValueError:  # Discard SCMs that lead to degenerate data matricies\n",
    "            continue\n",
    "        \n",
    "        # calculate the metrics and add them to the right dataframe\n",
    "        mt = MetricsDAG(algo.causal_matrix, nx.to_numpy_array(scm_conf.create_graph()))\n",
    "        results[a]['conf'].loc[len(results[a]['conf'])] = mt.metrics\n",
    "        \n",
    "print('Finished evaluation')"
   ],
   "metadata": {
    "collapsed": false
   },
   "id": "4b3ff444e5f4951d",
   "execution_count": null
  },
  {
   "cell_type": "markdown",
   "source": [
    "## Plotting Results\n",
    "\n",
    "Finally, we visualize the evaluation results by plotting the average values of selected metrics for each algorithm and dataset configuration. We decide to plot the F1 score and tpr."
   ],
   "metadata": {
    "collapsed": false
   },
   "id": "16284ad8f28b7065"
  },
  {
   "cell_type": "code",
   "outputs": [
    {
     "data": {
      "text/plain": "<Figure size 800x400 with 1 Axes>",
      "image/png": "[encoded data removed]"
     },
     "metadata": {},
     "output_type": "display_data"
    }
   ],
   "source": [
    "metrics_to_plot = ['F1',  'tpr']\n",
    "def plot_results():\n",
    "    algos_list = list(algos.keys())\n",
    "    \n",
    "    plot_data = {metric: {'uconf': [], 'conf': []} for metric in metrics_to_plot}\n",
    "    for algo in algos_list:\n",
    "        for metric in metrics_to_plot:\n",
    "            plot_data[metric]['uconf'].append(results[algo]['uconf'][metric].mean())\n",
    "            plot_data[metric]['conf'].append(results[algo]['conf'][metric].mean())\n",
    "    \n",
    "    fig, ax = plt.subplots(figsize=(8, 4))\n",
    "    bar_width = 0.08\n",
    "    group_spacing = 0.2\n",
    "    x = np.arange(len(algos_list))\n",
    "    \n",
    "    for i, metric in enumerate(metrics_to_plot):\n",
    "        ax.bar(x + i * (bar_width + group_spacing), plot_data[metric]['uconf'], width=bar_width, label=f'{metric} (uconf)')\n",
    "        ax.bar(x + i * (bar_width + group_spacing) + bar_width, plot_data[metric]['conf'], width=bar_width, label=f'{metric} (conf)')\n",
    "    \n",
    "    ax.set_xticks(x + (len(metrics_to_plot) - 1) * (bar_width + group_spacing) / 2)\n",
    "    ax.set_xticklabels(algos_list)\n",
    "    \n",
    "    ax.set_ylabel('Metric Value')\n",
    "    ax.set_xlabel('Algorithms')\n",
    "    ax.set_title('Comparison of Algorithms and Configurations')\n",
    "    \n",
    "    ax.legend()\n",
    "    plt.tight_layout()\n",
    "    plt.show()\n",
    "    \n",
    "plot_results()"
   ],
   "metadata": {
    "collapsed": false,
    "ExecuteTime": {
     "end_time": "2024-03-25T14:06:28.916760500Z",
     "start_time": "2024-03-25T14:06:28.660374800Z"
    }
   },
   "id": "e48721c016fa8c06",
   "execution_count": 53
  },
  {
   "cell_type": "markdown",
   "source": [
    "One take-away from this analisys could be that, on average, the presented CD algorithms perform worse on confounded graphs, except for NOTEARS. With adaptations to the causal relations, the metrics that are displayed and the CD algorithms, more intricate conclusions could be drawn.\n",
    "## Conclusion\n",
    "\n",
    "In this notebook, we demonstrated how to use the CausalPlayground library to compare different causal discovery algorithms. We generated synthetic data using the library's built-in functions and evaluated the performance of the algorithms on both confounded and unconfounded datasets. We show the usefulness of our library for generating causal data.\n",
    "\n",
    "\n",
    "## References\n",
    "[1] Keli Zhang, Shengyu Zhu, Marcus Kalander, Ignavier Ng, Junjian Ye, Zhitang Chen, and Lujia Pan. gCastle: A Python Toolbox for Causal Discovery. 11 2021\n"
   ],
   "metadata": {
    "collapsed": false
   },
   "id": "369e9b9a33cbb8a3"
  }
 ],
 "metadata": {
  "kernelspec": {
   "display_name": "Python 3",
   "language": "python",
   "name": "python3"
  },
  "language_info": {
   "codemirror_mode": {
    "name": "ipython",
    "version": 2
   },
   "file_extension": ".py",
   "mimetype": "text/x-python",
   "name": "python",
   "nbconvert_exporter": "python",
   "pygments_lexer": "ipython2",
   "version": "2.7.6"
  }
 },
 "nbformat": 4,
 "nbformat_minor": 5
}
